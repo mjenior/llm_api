{
 "cells": [
  {
   "cell_type": "code",
   "execution_count": 1,
   "id": "7907ea1d-e1d9-4b83-8fb2-6fd503095d9c",
   "metadata": {},
   "outputs": [],
   "source": [
    "# Import core class\n",
    "from llm_api.core import OpenAIQueryHandler"
   ]
  },
  {
   "cell_type": "code",
   "execution_count": 2,
   "id": "78ec5244-6889-4854-a27e-bed1e5e6e671",
   "metadata": {},
   "outputs": [],
   "source": [
    "# Initialize distinct agents with differing expertise\n",
    "bio = OpenAIQueryHandler(model=\"gpt-4o\", role=\"compbio\", save_code=True, refine_prompt=True, chain_of_thought=True, glyph_prompt=True) # Computational biologist\n",
    "dev = OpenAIQueryHandler(role=\"developer\", save_code=True, unit_testing=True) # Code refactoring and unit test expert\n",
    "write = OpenAIQueryHandler(model=\"gpt-4o\", role=\"writer\", iterations=5, chain_of_thought=True, verbose=True, refine_prompt=True, glyph_prompt=True) # Creative science writer\n",
    "edit = OpenAIQueryHandler(role=\"editor\", logging=True) # Expert copy editor"
   ]
  },
  {
   "cell_type": "code",
   "execution_count": null,
   "id": "75b10208-54ea-44d2-8d18-5cebbf6396fa",
   "metadata": {},
   "outputs": [],
   "source": [
    "# Make initial request to first agent for computational biology project\n",
    "query = \"\"\"\n",
    "Write an analysis pipeline in python to assemble long nanopore reads into contigs and then align them to an annotated reference genome. \n",
    "Then identify all of the sequence variation present in the new genome that is not present in the reference. \n",
    "Additionally generate a figure from data generated during the alignment based on quality scores, and 2 more figures to help interpret the results at the end.\n",
    "\"\"\"\n",
    "bio.request(query)"
   ]
  },
  {
   "cell_type": "code",
   "execution_count": null,
   "id": "5e003514-1b14-4a8e-b914-01523c7887e4",
   "metadata": {},
   "outputs": [],
   "source": [
    "# Consult the coding expert to create the best automated versions of the output as possible\n",
    "if len(bio.scripts) > 0:\n",
    "    query = \"Refactor and format the following code for optimal efficiency, useability, and generalization: \" + ' '.join(bio.scripts)\n",
    "    dev.request(query)"
   ]
  },
  {
   "cell_type": "code",
   "execution_count": null,
   "id": "238a6939-7038-4200-8e3d-2cc8a4ef0590",
   "metadata": {},
   "outputs": [],
   "source": [
    "# Utilize the writer agent to generate an informed post on the background and utility of the newly created pipeline\n",
    "query = \"\"\"\n",
    "Write a biotechnology blog post about the pipeline described below. \n",
    "Include relevant background that would necessitate this type of analysis, and add at least one example use case for the workflow. \n",
    "Extrapolate how the pipeline may be useful in cell engineering efforts, and what future improvements could lead to with continued work. \n",
    "Speak in a conversational tone and cite all sources with biological relevance to you discussion.\n",
    "\"\"\"\n",
    "query = query + \"\\n\" + bio.message\n",
    "write.request(query)"
   ]
  },
  {
   "cell_type": "code",
   "execution_count": null,
   "id": "33a44e34-7dda-4596-8050-7c8899960adf",
   "metadata": {},
   "outputs": [],
   "source": [
    "# Pass the rough draft text to the editor agent to recieve a more finalize version\n",
    "edit.request(write.message)"
   ]
  },
  {
   "cell_type": "code",
   "execution_count": null,
   "id": "be618a67-3753-4587-9ac8-ce66d5686157",
   "metadata": {},
   "outputs": [],
   "source": []
  }
 ],
 "metadata": {
  "kernelspec": {
   "display_name": "Python 3 (ipykernel)",
   "language": "python",
   "name": "python3"
  },
  "language_info": {
   "codemirror_mode": {
    "name": "ipython",
    "version": 3
   },
   "file_extension": ".py",
   "mimetype": "text/x-python",
   "name": "python",
   "nbconvert_exporter": "python",
   "pygments_lexer": "ipython3",
   "version": "3.12.4"
  }
 },
 "nbformat": 4,
 "nbformat_minor": 5
}
